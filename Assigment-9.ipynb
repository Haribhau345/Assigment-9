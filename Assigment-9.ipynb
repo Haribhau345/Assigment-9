{
 "cells": [
  {
   "cell_type": "code",
   "execution_count": null,
   "id": "13459735",
   "metadata": {},
   "outputs": [],
   "source": [
    "#1. A relative path refers to the path of a file or directory relative to the current working directory of the program."
   ]
  },
  {
   "cell_type": "code",
   "execution_count": null,
   "id": "7f7b90b0",
   "metadata": {},
   "outputs": [],
   "source": [
    "#2. An absolute path starts with the root directory of the operating system,\n",
    "#such as C:\\ on Windows or / on Unix-like systems."
   ]
  },
  {
   "cell_type": "code",
   "execution_count": null,
   "id": "921da068",
   "metadata": {},
   "outputs": [],
   "source": [
    "#3.os.getcwd() returns the current working directory of the program,\n",
    "#while os.chdir() changes the current working directory to the specified directory."
   ]
  },
  {
   "cell_type": "code",
   "execution_count": null,
   "id": "a0f9ee76",
   "metadata": {},
   "outputs": [],
   "source": [
    "#4. The `.` folder refers to the current directory, while the `..` folder refers to the parent directory.\n"
   ]
  },
  {
   "cell_type": "code",
   "execution_count": null,
   "id": "fd08c0ac",
   "metadata": {},
   "outputs": [],
   "source": [
    "#5. In `C:\\bacon\\eggs\\spam.txt`, `C:\\bacon\\eggs` is the directory name and `spam.txt` is the base name."
   ]
  },
  {
   "cell_type": "code",
   "execution_count": null,
   "id": "2f849655",
   "metadata": {},
   "outputs": [],
   "source": [
    "#6. The three mode arguments are:\n",
    "#r: read mode (default)\n",
    "#w: write mode, truncating the file if it exists\n",
    "#a: append mode, adding to the end of the file if it exists"
   ]
  },
  {
   "cell_type": "code",
   "execution_count": null,
   "id": "b513954b",
   "metadata": {},
   "outputs": [],
   "source": [
    "#7. If an existing file is opened in write mode, \n",
    "#its contents will be truncated (i.e., deleted) and replaced with the new data being written to the file."
   ]
  },
  {
   "cell_type": "code",
   "execution_count": null,
   "id": "a25a7dfc",
   "metadata": {},
   "outputs": [],
   "source": [
    "#8. read() returns the entire contents of a file as a single string, \n",
    "#while readlines() returns a list of strings, each corresponding to a line in the file."
   ]
  },
  {
   "cell_type": "code",
   "execution_count": null,
   "id": "0d6f5f81",
   "metadata": {},
   "outputs": [],
   "source": [
    "#9. A shelf value resembles a dictionary, as it stores key-value pairs.\n",
    "#However, unlike a regular dictionary, a shelf value stores its data to a file, allowing it to persist between program runs."
   ]
  }
 ],
 "metadata": {
  "kernelspec": {
   "display_name": "Python 3 (ipykernel)",
   "language": "python",
   "name": "python3"
  },
  "language_info": {
   "codemirror_mode": {
    "name": "ipython",
    "version": 3
   },
   "file_extension": ".py",
   "mimetype": "text/x-python",
   "name": "python",
   "nbconvert_exporter": "python",
   "pygments_lexer": "ipython3",
   "version": "3.9.13"
  }
 },
 "nbformat": 4,
 "nbformat_minor": 5
}
